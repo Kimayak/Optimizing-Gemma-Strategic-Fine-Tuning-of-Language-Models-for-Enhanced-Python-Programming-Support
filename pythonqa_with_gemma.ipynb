{
  "metadata": {
    "kernelspec": {
      "language": "python",
      "display_name": "Python 3",
      "name": "python3"
    },
    "language_info": {
      "name": "python",
      "version": "3.10.13",
      "mimetype": "text/x-python",
      "codemirror_mode": {
        "name": "ipython",
        "version": 3
      },
      "pygments_lexer": "ipython3",
      "nbconvert_exporter": "python",
      "file_extension": ".py"
    },
    "kaggle": {
      "accelerator": "gpu",
      "dataSources": [
        {
          "sourceId": 64148,
          "databundleVersionId": 7669720,
          "sourceType": "competition"
        },
        {
          "sourceId": 726715,
          "sourceType": "datasetVersion",
          "datasetId": 262
        },
        {
          "sourceId": 7711309,
          "sourceType": "datasetVersion",
          "datasetId": 4484051
        },
        {
          "sourceId": 7909099,
          "sourceType": "datasetVersion",
          "datasetId": 4646195
        },
        {
          "sourceId": 7932508,
          "sourceType": "datasetVersion",
          "datasetId": 4662789
        },
        {
          "sourceId": 11371,
          "sourceType": "modelInstanceVersion",
          "modelInstanceId": 5171
        }
      ],
      "dockerImageVersionId": 30648,
      "isInternetEnabled": true,
      "language": "python",
      "sourceType": "notebook",
      "isGpuEnabled": true
    },
    "colab": {
      "provenance": [],
      "toc_visible": true
    }
  },
  "nbformat_minor": 0,
  "nbformat": 4,
  "cells": [
    {
      "cell_type": "markdown",
      "source": [
        "<!-- <center><img src=\"https://keras.io/img/logo-small.png\" alt=\"Keras logo\" width=\"100\"><br/>\n",
        "This starter notebook is provided by the Keras team.</center> -->"
      ],
      "metadata": {
        "_uuid": "8f2839f25d086af736a60e9eeb907d3b93b6e0e5",
        "_cell_guid": "b1076dfc-b9ad-4769-8c92-a6c4dae69d19",
        "id": "AJnEF8PaMj71"
      }
    },
    {
      "cell_type": "markdown",
      "source": [
        "# Finetuning Gemma for Answering Python Questions\n",
        "<!-- [KerasNLP](https://github.com/keras-team/keras-nlp) and [Keras](https://github.com/keras-team/keras) -->\n",
        "\n",
        "Notebook edited by: Kimaya Kulkarni\n",
        "\n",
        "<!-- > The objective of this competition is to build tools to assist Kaggle developers.\n",
        "\n",
        "<div align=\"center\">\n",
        "    <img src=\"https://i.ibb.co/8xZNc32/Gemma.png\">\n",
        "</div> -->\n",
        "<!--\n",
        "In this competition, we are asked to create notebooks that demonstrate how to use the Gemma LLM to accomplish one or more of the following developer-oriented tasks:\n",
        "1. Answer common questions about the Kaggle platform.\n",
        "2. Explain or teach basic data science concepts.\n",
        "3. Summarize Kaggle Solution write-ups.\n",
        "4. Explain or teach concepts from Kaggle Solution write-ups.\n",
        "5. **Answer common questions about the Python programming language.** -->\n",
        "\n",
        "<!-- This notebook guides you through performing `\"1. Answer common questions about the Kaggle platform\"` task for the competition. As this task requires specific knowledge of Kaggle, we need precise information about Kaggle. To do so, I have created a dataset, [\"Kaggle Docs\"](https://www.kaggle.com/datasets/awsaf49/kaggle-docs), collecting data from [kaggle.com/docs](https://www.kaggle.com/docs/). To make things easier for the model, the data is curated to have Question-Answer pair format, but if you are interested, the raw data is also available. We will use this dataset to fine-tune **Gemma LLM** to answer questions about the Kaggle platform. -->\n",
        "I have used the example notebook given and updated it to perform the task, Answering common questions about the Python Langauge. I have used a dataset available on kaggle (cleaned and reduced form) along with a dataset I made using various online resources including python documentation. Both datasets post cleaning consist of question - answer pairs used to tune the LLM.\n",
        "<!--\n",
        "<u>Fun fact</u>: This notebook is backend-agnostic, supporting TensorFlow, PyTorch, and JAX. However, the best performance can be achieved from `JAX`. Utilizing KerasNLP and Keras allows us to choose our preferred backend. Explore more details on [Keras](https://keras.io/keras_3/).\n",
        "\n",
        "**Note**: For a more in-depth understanding of KerasNLP, refer to the [KerasNLP guides](https://keras.io/keras_nlp/). -->\n"
      ],
      "metadata": {
        "id": "l8ObVuXZMj72"
      }
    },
    {
      "cell_type": "markdown",
      "source": [
        "# Install Libraries  "
      ],
      "metadata": {
        "id": "U9GLkZNLMj72"
      }
    },
    {
      "cell_type": "code",
      "source": [
        "# Install Keras 3 last. See https://keras.io/getting_started/ for more details.\n",
        "# !pip install --upgrade \"packaging~=23.1\"\n",
        "!pip install -q -U keras-nlp\n",
        "!pip install -q -U keras>3"
      ],
      "metadata": {
        "_kg_hide-output": true,
        "execution": {
          "iopub.status.busy": "2024-03-24T23:59:04.098913Z",
          "iopub.execute_input": "2024-03-24T23:59:04.099284Z",
          "iopub.status.idle": "2024-03-24T23:59:33.276855Z",
          "shell.execute_reply.started": "2024-03-24T23:59:04.099252Z",
          "shell.execute_reply": "2024-03-24T23:59:33.275861Z"
        },
        "trusted": true,
        "id": "U70-mxjJMj73",
        "outputId": "b1f4818f-e22b-462c-db9b-8f79c7c95bbe"
      },
      "execution_count": null,
      "outputs": [
        {
          "name": "stdout",
          "text": "\u001b[31mERROR: pip's dependency resolver does not currently take into account all the packages that are installed. This behaviour is the source of the following dependency conflicts.\ntensorflow 2.15.0 requires keras<2.16,>=2.15.0, but you have keras 3.1.1 which is incompatible.\ntensorflowjs 4.16.0 requires packaging~=23.1, but you have packaging 21.3 which is incompatible.\u001b[0m\u001b[31m\n\u001b[0m",
          "output_type": "stream"
        }
      ]
    },
    {
      "cell_type": "markdown",
      "source": [
        "# Import Libraries"
      ],
      "metadata": {
        "id": "z06tvmoIMj73"
      }
    },
    {
      "cell_type": "code",
      "source": [
        "import os\n",
        "os.environ[\"KERAS_BACKEND\"] = \"jax\" # you can also use tensorflow or torch\n",
        "os.environ[\"XLA_PYTHON_CLIENT_MEM_FRACTION\"] = \"1.00\" # avoid memory fragmentation on JAX backend.\n",
        "\n",
        "import keras\n",
        "import keras_nlp\n",
        "import pandas as pd\n",
        "\n",
        "import numpy as np\n",
        "import pandas as pd\n",
        "from tqdm.notebook import tqdm\n",
        "tqdm.pandas() # progress bar for pandas\n",
        "\n",
        "import plotly.graph_objs as go\n",
        "import plotly.express as px\n",
        "from IPython.display import display, Markdown"
      ],
      "metadata": {
        "_kg_hide-output": true,
        "execution": {
          "iopub.status.busy": "2024-03-24T23:59:33.279107Z",
          "iopub.execute_input": "2024-03-24T23:59:33.279471Z",
          "iopub.status.idle": "2024-03-24T23:59:47.590862Z",
          "shell.execute_reply.started": "2024-03-24T23:59:33.279434Z",
          "shell.execute_reply": "2024-03-24T23:59:47.590007Z"
        },
        "trusted": true,
        "id": "1q2tyXE1Mj73",
        "outputId": "2e0e97a6-7583-432c-c2bc-72a476711f50"
      },
      "execution_count": null,
      "outputs": [
        {
          "name": "stderr",
          "text": "2024-03-24 23:59:37.772641: E external/local_xla/xla/stream_executor/cuda/cuda_dnn.cc:9261] Unable to register cuDNN factory: Attempting to register factory for plugin cuDNN when one has already been registered\n2024-03-24 23:59:37.772738: E external/local_xla/xla/stream_executor/cuda/cuda_fft.cc:607] Unable to register cuFFT factory: Attempting to register factory for plugin cuFFT when one has already been registered\n2024-03-24 23:59:37.911295: E external/local_xla/xla/stream_executor/cuda/cuda_blas.cc:1515] Unable to register cuBLAS factory: Attempting to register factory for plugin cuBLAS when one has already been registered\n",
          "output_type": "stream"
        }
      ]
    },
    {
      "cell_type": "markdown",
      "source": [
        "# Configuration"
      ],
      "metadata": {
        "id": "AqBXpq-RMj73"
      }
    },
    {
      "cell_type": "code",
      "source": [
        "class CFG:\n",
        "    seed = 42\n",
        "    dataset_path = \"/kaggle/input/kaggle-docs/questions_answers\"\n",
        "    preset = \"gemma_2b_en\" # name of pretrained Gemma\n",
        "    sequence_length = 512 # max size of input sequence for training\n",
        "    batch_size = 1 # size of the input batch in training, x 2 as two GPUs\n",
        "    epochs = 5 # number of epochs to train"
      ],
      "metadata": {
        "execution": {
          "iopub.status.busy": "2024-03-24T23:59:47.591949Z",
          "iopub.execute_input": "2024-03-24T23:59:47.592487Z",
          "iopub.status.idle": "2024-03-24T23:59:47.597257Z",
          "shell.execute_reply.started": "2024-03-24T23:59:47.592460Z",
          "shell.execute_reply": "2024-03-24T23:59:47.596415Z"
        },
        "trusted": true,
        "id": "2FSTm771Mj74"
      },
      "execution_count": null,
      "outputs": []
    },
    {
      "cell_type": "markdown",
      "source": [
        "# Reproducibility\n",
        "Sets value for random seed to produce similar result in each run."
      ],
      "metadata": {
        "id": "oF8RYsxRMj74"
      }
    },
    {
      "cell_type": "code",
      "source": [
        "keras.utils.set_random_seed(CFG.seed)\n"
      ],
      "metadata": {
        "execution": {
          "iopub.status.busy": "2024-03-24T23:59:47.599183Z",
          "iopub.execute_input": "2024-03-24T23:59:47.599452Z",
          "iopub.status.idle": "2024-03-24T23:59:47.633852Z",
          "shell.execute_reply.started": "2024-03-24T23:59:47.599429Z",
          "shell.execute_reply": "2024-03-24T23:59:47.632996Z"
        },
        "trusted": true,
        "id": "rfaJYesjMj74"
      },
      "execution_count": null,
      "outputs": []
    },
    {
      "cell_type": "markdown",
      "source": [
        "# Data\n",
        "\n",
        "The project's dataset was carefully crafted by combining self-generated FAQs from Python resources with an extensive Kaggle Stack Overflow dataset, creating a rich compilation tailored for fine-tuning the Gemma language model, focused on Python programming support and analysis.\n",
        "\n",
        "<!-- **Data Format:**\n",
        "\n",
        "=\n",
        "- This file includes:\n",
        "    - `Question`: A question about the Kaggle platform\n",
        "    - `Answer`: Answer to the question in markdown format\n",
        "    - `Category`: The category into which the question falls, one of the nine mentioned on the `kaggle.com/docs` website.\n",
        "    \n",
        "> You can access the **raw** data from `./kaggle-docs/raw/`, where there are `.txt` files for each of the **nine** categories. -->"
      ],
      "metadata": {
        "id": "svSFTSgvMj74"
      }
    },
    {
      "cell_type": "markdown",
      "source": [
        "Cleaning Kaggle Dataset"
      ],
      "metadata": {
        "id": "G3cfT86vOF02"
      }
    },
    {
      "cell_type": "code",
      "source": [
        "# each question in kaggle dataset is tagged by the topic, we only take those qns whose tag is python\n",
        "tags_df = pd.read_csv('/kaggle/input/pythonquestions/Tags.csv')\n",
        "python_tags = tags_df[tags_df['Tag'] == 'python']\n",
        "python_ids = python_tags['Id'].unique()\n",
        "#questions.csv is imported\n",
        "questions_df = pd.read_csv('/kaggle/input/pythonquestions/Questions.csv', encoding='latin1')\n",
        "#only tags which selected previously are kept\n",
        "questions_df = questions_df[questions_df['Id'].isin(python_ids)]\n",
        "#keep only columns we plan on using\n",
        "questions_df = questions_df[['Id','Score', 'Title', 'Body' ]]\n",
        "#clean data\n",
        "questions_df['Body'] = questions_df['Body'].str.replace('<.*?>', '', regex=True)\n",
        "#create new column for question\n",
        "questions_df['question'] = questions_df['Title'] + ' ' + questions_df['Body']\n",
        "\n",
        "#answers.csv\n",
        "answers_df = pd.read_csv('/kaggle/input/pythonquestions/Answers.csv', encoding='latin1')\n",
        "#only tags which selected previously are kept\n",
        "answers_df = answers_df[answers_df['ParentId'].isin(python_ids)]\n",
        "#max score ans is kept\n",
        "idx = answers_df.groupby('ParentId')['Score'].idxmax()\n",
        "answers_max_df = answers_df.loc[idx]\n",
        "answers_max_df = answers_max_df[['ParentId','Score', 'Body' ]]\n",
        "#clean text\n",
        "answers_max_df['Body'] = answers_max_df['Body'].str.replace('<.*?>', '', regex=True)\n",
        "\n",
        "#merge questions and answer dfs\n",
        "df1 = pd.merge(questions_df, answers_max_df, left_on='Id', right_on='ParentId')\n",
        "df1 = df1.sort_values(by='Score_y', ascending=False)\n",
        "df1 = df1.drop(columns=['ParentId','Score_x','Score_y','Title', 'Body_x', 'Id' ])\n",
        "df1.rename(columns={'Body_y': 'answer'}, inplace=True)\n",
        "print(df1.head())"
      ],
      "metadata": {
        "execution": {
          "iopub.status.busy": "2024-03-24T23:59:47.634981Z",
          "iopub.execute_input": "2024-03-24T23:59:47.635719Z",
          "iopub.status.idle": "2024-03-25T00:00:43.253067Z",
          "shell.execute_reply.started": "2024-03-24T23:59:47.635686Z",
          "shell.execute_reply": "2024-03-25T00:00:43.252125Z"
        },
        "trusted": true,
        "id": "UvnFOAf6Mj74",
        "outputId": "b8ae2740-ef02-4eed-91d7-6d4116183636"
      },
      "execution_count": null,
      "outputs": [
        {
          "name": "stdout",
          "text": "                                               question  \\\n962   What does the \"yield\" keyword do? What is the ...   \n334   What is a metaclass in Python? What are metacl...   \n4082  How to make a chain of function decorators in ...   \n1874  Does Python have a ternary conditional operato...   \n2662  Accessing the index in Python 'for' loops How ...   \n\n                                                 answer  \n962   To understand what yield does, you must unders...  \n334   Classes as objects\\n\\nBefore understanding met...  \n4082  If you are not into long explanations, see Pao...  \n1874  Yes, it was added in version 2.5.\\nThe syntax ...  \n2662  Using an additional state variable, such as an...  \n",
          "output_type": "stream"
        }
      ]
    },
    {
      "cell_type": "code",
      "source": [
        "# personal dataset built for the task\n",
        "df2 = pd.read_csv('/kaggle/input/python-q-1/python_coding_questions.csv')\n",
        "df2.head(2)\n",
        "print(df2.columns)\n"
      ],
      "metadata": {
        "execution": {
          "iopub.status.busy": "2024-03-25T00:00:43.254436Z",
          "iopub.execute_input": "2024-03-25T00:00:43.254824Z",
          "iopub.status.idle": "2024-03-25T00:00:43.266298Z",
          "shell.execute_reply.started": "2024-03-25T00:00:43.254791Z",
          "shell.execute_reply": "2024-03-25T00:00:43.265365Z"
        },
        "trusted": true,
        "id": "5_q3FeYEMj74",
        "outputId": "c2b7e2c8-4f87-469e-9e48-0491f5ca8b2f"
      },
      "execution_count": null,
      "outputs": [
        {
          "name": "stdout",
          "text": "Index(['question', 'answer'], dtype='object')\n",
          "output_type": "stream"
        }
      ]
    },
    {
      "cell_type": "code",
      "source": [
        "#combine the datasets, choose how many samples to use for training, here we take 500\n",
        "df_all = pd.concat([df2, df1], ignore_index=True)\n",
        "print(df_all.head())\n",
        "print(df_all.tail())\n",
        "df = df_all.iloc[:500]\n",
        "print(df.head())\n",
        "print(df.tail())"
      ],
      "metadata": {
        "execution": {
          "iopub.status.busy": "2024-03-25T00:00:43.267600Z",
          "iopub.execute_input": "2024-03-25T00:00:43.267863Z",
          "iopub.status.idle": "2024-03-25T00:00:43.302106Z",
          "shell.execute_reply.started": "2024-03-25T00:00:43.267840Z",
          "shell.execute_reply": "2024-03-25T00:00:43.301290Z"
        },
        "trusted": true,
        "id": "qTOhiFjXMj74",
        "outputId": "aca61c97-9cf0-4a81-ca22-141278c59fa5"
      },
      "execution_count": null,
      "outputs": [
        {
          "name": "stdout",
          "text": "                                        question  \\\n0                How to create a list in Python?   \n1    How to iterate over a dictionary in Python?   \n2  How to check if a key exists in a dictionary?   \n3                 How to merge two dictionaries?   \n4                  How to sort a list in Python?   \n\n                                              answer  \n0    Use square brackets, e.g., my_list = [1, 2, 3].  \n1  Use .items() to iterate over key, value pairs,...  \n2              Use 'in', e.g., 'if key in my_dict:'.  \n3  Use the update() method or {**dict1, **dict2} ...  \n4       Use the sorted() function or .sort() method.  \n                                                 question  \\\n539333  First Python Code I installed the PyCharm and ...   \n539334  I am creating some voice authentication system...   \n539335  Using the return values of dynamic classes I h...   \n539336  How to flatten a nested \"homogeneous\" list I h...   \n539337  'NameError' in Python Program I'm working on a...   \n\n                                                   answer  \n539333  You use this:\\n\\nfor i in range(10):\\n   x = 0...  \n539334  Well\\n\\nFirst its an off topic question here.\\...  \n539335  When you iterate over the catalog, each time y...  \n539336  Here is my solution:\\n\\ndef homo_flat( seq ):\\...  \n539337  get rid of speedLimit = tryAndExceptInputInt(\"...  \n                                        question  \\\n0                How to create a list in Python?   \n1    How to iterate over a dictionary in Python?   \n2  How to check if a key exists in a dictionary?   \n3                 How to merge two dictionaries?   \n4                  How to sort a list in Python?   \n\n                                              answer  \n0    Use square brackets, e.g., my_list = [1, 2, 3].  \n1  Use .items() to iterate over key, value pairs,...  \n2              Use 'in', e.g., 'if key in my_dict:'.  \n3  Use the update() method or {**dict1, **dict2} ...  \n4       Use the sorted() function or .sort() method.  \n                                              question  \\\n495  How do you return multiple values in Python? T...   \n496  What is the easiest way to remove all packages...   \n497  Python: defaultdict of defaultdict? Is there a...   \n498  mysql_config not found when installing mysqldb...   \n499  \"Large data\" work flows using pandas I have tr...   \n\n                                                answer  \n495  Named tuples were added in 2.6 for this purpos...  \n496  I've found this snippet as an alternative solu...  \n497  Yes like this:\\n\\ndefaultdict(lambda : default...  \n498  mySQLdb is a python interface for mysql, but i...  \n499  I routinely use tens of gigabytes of data in j...  \n",
          "output_type": "stream"
        }
      ]
    },
    {
      "cell_type": "markdown",
      "source": [
        "We'll use the following simple template to create prompts from question-answer pairs and category to feed text into the model:\n",
        "\n",
        "```\n",
        "Category: ...\n",
        "\n",
        "Question: ...\n",
        "\n",
        "Answer: ...\n",
        "```\n",
        "\n",
        "This template helps the model understand what you're asking and how to respond accurately. You can explore more advanced prompt templates for better results."
      ],
      "metadata": {
        "id": "gB__TJ15Mj74"
      }
    },
    {
      "cell_type": "code",
      "source": [
        "#prompt template\n",
        "template = \"\\n\\nQuestion:\\n{question}\\n\\nAnswer:\\n{answer}\""
      ],
      "metadata": {
        "execution": {
          "iopub.status.busy": "2024-03-25T00:00:43.303041Z",
          "iopub.execute_input": "2024-03-25T00:00:43.303302Z",
          "iopub.status.idle": "2024-03-25T00:00:43.307177Z",
          "shell.execute_reply.started": "2024-03-25T00:00:43.303279Z",
          "shell.execute_reply": "2024-03-25T00:00:43.306337Z"
        },
        "trusted": true,
        "id": "elLFmsfuMj75"
      },
      "execution_count": null,
      "outputs": []
    },
    {
      "cell_type": "code",
      "source": [
        "from tqdm.auto import tqdm\n",
        "tqdm.pandas()\n",
        "\n",
        "template = \"\\n\\nQuestion:\\n{question}\\n\\nAnswer:\\n{answer}\"\n",
        "\n",
        "df[\"prompt\"] = df.progress_apply(lambda row: template.format(\n",
        "                                                    question=row['question'],\n",
        "                                                    answer=row['answer']), axis=1)\n",
        "data = df['prompt'].tolist()\n"
      ],
      "metadata": {
        "execution": {
          "iopub.status.busy": "2024-03-25T00:00:43.308225Z",
          "iopub.execute_input": "2024-03-25T00:00:43.308481Z",
          "iopub.status.idle": "2024-03-25T00:00:43.353975Z",
          "shell.execute_reply.started": "2024-03-25T00:00:43.308450Z",
          "shell.execute_reply": "2024-03-25T00:00:43.353110Z"
        },
        "trusted": true,
        "colab": {
          "referenced_widgets": [
            "3ff4eebb2d8746079d82b90d3fb6a2bd"
          ]
        },
        "id": "EPZa0YkIMj75",
        "outputId": "8d556b67-e607-488b-877d-7a680bbbd4b4"
      },
      "execution_count": null,
      "outputs": [
        {
          "output_type": "display_data",
          "data": {
            "text/plain": "  0%|          | 0/500 [00:00<?, ?it/s]",
            "application/vnd.jupyter.widget-view+json": {
              "version_major": 2,
              "version_minor": 0,
              "model_id": "3ff4eebb2d8746079d82b90d3fb6a2bd"
            }
          },
          "metadata": {}
        },
        {
          "name": "stderr",
          "text": "/tmp/ipykernel_35/3894174901.py:6: SettingWithCopyWarning: \nA value is trying to be set on a copy of a slice from a DataFrame.\nTry using .loc[row_indexer,col_indexer] = value instead\n\nSee the caveats in the documentation: https://pandas.pydata.org/pandas-docs/stable/user_guide/indexing.html#returning-a-view-versus-a-copy\n  df[\"prompt\"] = df.progress_apply(lambda row: template.format(\n",
          "output_type": "stream"
        }
      ]
    },
    {
      "cell_type": "markdown",
      "source": [
        "Let's examine a sample prompt. As the answers in our dataset are curated with **markdown** format, we will render the sample using `Markdown()` to properly visualize the formatting."
      ],
      "metadata": {
        "id": "S5cGJb6jMj75"
      }
    },
    {
      "cell_type": "markdown",
      "source": [
        "## Sample"
      ],
      "metadata": {
        "id": "jHF9ZkmUMj75"
      }
    },
    {
      "cell_type": "code",
      "source": [
        "def colorize_text(text):\n",
        "    for word, color in zip([ \"question\", \"answer\"], [ \"red\", \"green\"]):\n",
        "        text = text.replace(f\"\\n\\n{word}:\", f\"\\n\\n**<font color='{color}'>{word}:</font>**\")\n",
        "    return text"
      ],
      "metadata": {
        "_kg_hide-input": true,
        "execution": {
          "iopub.status.busy": "2024-03-25T00:00:43.362433Z",
          "iopub.execute_input": "2024-03-25T00:00:43.362689Z",
          "iopub.status.idle": "2024-03-25T00:00:43.372424Z",
          "shell.execute_reply.started": "2024-03-25T00:00:43.362668Z",
          "shell.execute_reply": "2024-03-25T00:00:43.371397Z"
        },
        "trusted": true,
        "id": "49gfZCH4Mj75"
      },
      "execution_count": null,
      "outputs": []
    },
    {
      "cell_type": "code",
      "source": [
        "# Take a random sample\n",
        "sample = data[45]\n",
        "\n",
        "# Give colors to Question, Answer and Category\n",
        "sample = colorize_text(sample)\n",
        "\n",
        "# Show sample in markdown\n",
        "display(Markdown(sample))"
      ],
      "metadata": {
        "_kg_hide-input": true,
        "execution": {
          "iopub.status.busy": "2024-03-25T00:00:43.373540Z",
          "iopub.execute_input": "2024-03-25T00:00:43.373820Z",
          "iopub.status.idle": "2024-03-25T00:00:43.385767Z",
          "shell.execute_reply.started": "2024-03-25T00:00:43.373794Z",
          "shell.execute_reply": "2024-03-25T00:00:43.384983Z"
        },
        "trusted": true,
        "id": "48MD4jtVMj75",
        "outputId": "e61dc729-02c9-44ca-815f-c0a25f1aa2c5"
      },
      "execution_count": null,
      "outputs": [
        {
          "output_type": "display_data",
          "data": {
            "text/plain": "<IPython.core.display.Markdown object>",
            "text/markdown": "\n\nQuestion:\nHow to reverse a list?\n\nAnswer:\nUse the reverse() method or slicing [::-1]."
          },
          "metadata": {}
        }
      ]
    },
    {
      "cell_type": "markdown",
      "source": [],
      "metadata": {
        "id": "M-ArnuvcMj75"
      }
    },
    {
      "cell_type": "markdown",
      "source": [
        "# Exploratory Data Analysis\n",
        "\n",
        "Let's do a simple EDA to determine how many question-answer pairs we have per category."
      ],
      "metadata": {
        "id": "ivr6R5ulMj75"
      }
    },
    {
      "cell_type": "code",
      "source": [
        "# plot question length vs count distribution\n",
        "df_copy = df.copy()\n",
        "# Example assuming you want to analyze the length of questions\n",
        "df_copy['QuestionLength'] = df_copy['question'].apply(len)\n",
        "\n",
        "# Get unique lengths and their frequency\n",
        "unique_lengths, length_counts = np.unique(df_copy['QuestionLength'], return_counts=True)\n",
        "\n",
        "print(unique_lengths)\n",
        "print(length_counts)\n",
        "plt.plot(unique_lengths, length_counts)\n",
        "plt.title(\"Question Length Distribution\")\n",
        "plt.xlabel(\"Question Length\")\n",
        "plt.ylabel(\"Count\")\n"
      ],
      "metadata": {
        "execution": {
          "iopub.status.busy": "2024-03-25T00:00:43.396424Z",
          "iopub.execute_input": "2024-03-25T00:00:43.396695Z",
          "iopub.status.idle": "2024-03-25T00:00:43.676672Z",
          "shell.execute_reply.started": "2024-03-25T00:00:43.396674Z",
          "shell.execute_reply": "2024-03-25T00:00:43.675730Z"
        },
        "trusted": true,
        "id": "1AQ0ZxtSMj75",
        "outputId": "ae593b3f-068f-4548-c6f1-719fdd60f646"
      },
      "execution_count": null,
      "outputs": [
        {
          "name": "stdout",
          "text": "[   22    29    30    31    33    37    43    45    53    63    68    79\n    86    88    91    98    99   101   102   104   105   107   109   111\n   113   114   118   121   122   123   125   126   127   129   130   131\n   137   142   143   144   145   147   148   149   150   152   153   154\n   155   156   157   158   159   161   162   165   167   169   173   174\n   175   178   179   180   181   183   184   185   186   187   188   189\n   190   191   192   196   199   200   202   203   204   205   206   209\n   211   212   213   216   217   218   219   223   225   227   229   231\n   233   234   235   244   245   246   247   248   250   251   254   256\n   257   258   259   260   262   263   264   266   268   269   272   274\n   280   283   284   285   287   291   292   293   295   298   303   304\n   305   311   316   318   319   320   322   323   328   330   332   333\n   334   336   338   341   347   349   352   353   354   357   360   362\n   369   370   372   376   378   379   382   383   384   389   392   394\n   395   399   401   404   405   406   407   409   410   411   412   413\n   414   416   422   423   424   427   429   431   433   434   439   440\n   441   443   446   452   453   454   455   457   458   459   462   465\n   466   467   470   473   477   479   483   484   488   490   491   494\n   495   497   501   505   506   511   518   531   533   548   553   555\n   557   558   562   565   572   574   581   585   600   603   605   609\n   611   614   619   626   632   635   637   640   641   645   651   657\n   659   662   668   674   676   679   683   691   693   697   701   703\n   707   717   718   728   733   742   752   754   762   791   796   801\n   816   828   844   846   860   883   911   932   935   941   966   994\n  1010  1039  1050  1072  1075  1084  1093  1139  1149  1162  1176  1178\n  1186  1245  1275  1305  1308  1369  1399  1402  1484  1517  1593  1623\n  1803  1831  1967  1981  2045  2077  2183  2245  2326  2779  2823  2999\n  3110  3855  4540  4972  6855  9610 12461]\n[10 20 10 10 10 10 10 10 10  1  1  2  1  1  1  1  3  2  1  1  1  1  1  2\n  1  1  1  2  3  2  1  1  2  2  1  2  2  4  1  1  1  1  1  1  2  2  1  1\n  1  1  2  1  1  1  1  1  1  1  1  1  2  3  1  1  1  1  1  1  3  1  4  1\n  1  1  1  1  2  1  3  1  1  2  1  2  2  1  2  2  1  1  1  1  2  1  1  3\n  1  1  2  2  1  1  1  1  2  1  2  1  1  1  2  1  1  1  1  1  1  1  1  1\n  1  1  2  1  1  2  1  3  1  1  3  1  1  1  3  1  1  2  1  2  2  1  1  1\n  1  3  2  1  1  1  1  1  2  1  1  2  1  2  3  1  1  1  1  1  2  1  1  1\n  1  2  1  1  2  1  1  1  2  1  1  1  1  1  1  1  2  1  1  1  1  2  1  2\n  1  1  1  3  1  1  1  1  1  1  1  1  1  2  1  1  1  1  2  1  2  1  1  1\n  1  1  1  1  1  1  2  1  1  1  1  1  1  1  1  1  1  2  1  1  1  1  1  1\n  1  1  1  1  1  1  1  1  1  1  1  1  1  1  1  1  1  1  1  1  1  1  1  1\n  1  1  1  1  1  1  1  1  1  1  1  1  2  1  1  1  1  1  1  1  1  1  1  1\n  1  1  1  2  1  1  1  1  1  1  1  1  1  1  1  1  1  1  1  1  1  1  1  1\n  1  1  1  1  1  1  1  1  1  1  1  1  1  1  1  1  1  1  1]\n",
          "output_type": "stream"
        },
        {
          "execution_count": 14,
          "output_type": "execute_result",
          "data": {
            "text/plain": "Text(0, 0.5, 'Count')"
          },
          "metadata": {}
        },
        {
          "output_type": "display_data",
          "data": {
            "text/plain": "<Figure size 640x480 with 1 Axes>",
            "image/png": "[encoded data removed]"
          },
          "metadata": {}
        }
      ]
    },
    {
      "cell_type": "markdown",
      "source": [
        "# Modeling\n",
        "\n",
        "<!-- <div align=\"center\"><img src=\"https://i.ibb.co/Bqg9w3g/Gemma-Logo-no-background.png\" width=\"300\"></div> -->\n",
        "\n",
        "**Gemma** is a suite of advanced open models developed by **Google DeepMind** and other **Google teams**, derived from the same research and technology behind the **Gemini** models. They can be integrated into applications and run on various platforms including mobile devices and hosted services. Developers can customize Gemma models using tuning techniques to enhance their performance for specific tasks, offering more targeted and efficient generative AI solutions beyond text generation.\n",
        "\n",
        "Gemma models are available in several sizes so you can build generative AI solutions based on your available computing resources, the capabilities you need, and where you want to run them.\n",
        "\n",
        "| Parameters size | Tuned versions    | Intended platforms                 | Preset                 |\n",
        "|-----------------|-------------------|------------------------------------|------------------------|\n",
        "| 2B              | Pretrained        | Mobile devices and laptops         | `gemma_2b_en`          |\n",
        "| 2B              | Instruction tuned | Mobile devices and laptops         | `gemma_instruct_2b_en` |\n",
        "| 7B              | Pretrained        | Desktop computers and small servers| `gemma_7b_en`          |\n",
        "| 7B              | Instruction tuned | Desktop computers and small servers| `gemma_instruct_7b_en` |\n",
        "\n",
        "In this notebook, we will use the `Gemma 2B` from KerasNLP's pretrained models to answer questions about python programming.\n",
        "\n",
        "<!-- To explore other models, simply modify the `preset` in the `CFG` (config). A list of other available pretrained models can be found on the [KerasNLP website](https://keras.io/api/keras_nlp/models/). -->\n",
        "\n"
      ],
      "metadata": {
        "id": "Hi58j9owMj75"
      }
    },
    {
      "cell_type": "markdown",
      "source": [
        "## Gemma Causal LM\n",
        "\n",
        "The code below will build an end-to-end Gemma model for causal language modeling (hence the name `GemmaCausalLM`). A causal language model (LM) predicts the next token based on previous tokens. This task setup can be used to train the model unsupervised on plain text input or to autoregressively generate plain text similar to the data used for training. This task can be used for pre-training or fine-tuning a Gemma model simply by calling `fit()`.\n",
        "\n",
        "This model has a `generate()` method, which generates text based on a prompt. The generation strategy used is controlled by an additional sampler argument on `compile()`. You can recompile the model with different `keras_nlp.samplers` objects to control the generation. By default, `\"greedy\"` sampling will be used.\n",
        "\n",
        "> The `from_preset` method instantiates the model from a preset architecture and weights."
      ],
      "metadata": {
        "id": "n5dJ60MdMj75"
      }
    },
    {
      "cell_type": "code",
      "source": [
        "gemma_lm = keras_nlp.models.GemmaCausalLM.from_preset(\"gemma_2b_en\")\n",
        "gemma_lm.summary()"
      ],
      "metadata": {
        "execution": {
          "iopub.status.busy": "2024-03-25T00:00:43.677650Z",
          "iopub.execute_input": "2024-03-25T00:00:43.677898Z",
          "iopub.status.idle": "2024-03-25T00:01:42.203879Z",
          "shell.execute_reply.started": "2024-03-25T00:00:43.677876Z",
          "shell.execute_reply": "2024-03-25T00:01:42.202988Z"
        },
        "trusted": true,
        "id": "k7_y9AxnMj75",
        "outputId": "4cbe9b09-9817-4031-bcf9-3712c1f47b10"
      },
      "execution_count": null,
      "outputs": [
        {
          "name": "stderr",
          "text": "Attaching 'config.json' from model 'keras/gemma/keras/gemma_2b_en/2' to your Kaggle notebook...\nAttaching 'config.json' from model 'keras/gemma/keras/gemma_2b_en/2' to your Kaggle notebook...\nAttaching 'model.weights.h5' from model 'keras/gemma/keras/gemma_2b_en/2' to your Kaggle notebook...\nAttaching 'tokenizer.json' from model 'keras/gemma/keras/gemma_2b_en/2' to your Kaggle notebook...\nAttaching 'assets/tokenizer/vocabulary.spm' from model 'keras/gemma/keras/gemma_2b_en/2' to your Kaggle notebook...\nnormalizer.cc(51) LOG(INFO) precompiled_charsmap is empty. use identity normalization.\n",
          "output_type": "stream"
        },
        {
          "output_type": "display_data",
          "data": {
            "text/plain": "\u001b[1mPreprocessor: \"gemma_causal_lm_preprocessor\"\u001b[0m\n",
            "text/html": "<pre style=\"white-space:pre;overflow-x:auto;line-height:normal;font-family:Menlo,'DejaVu Sans Mono',consolas,'Courier New',monospace\"><span style=\"font-weight: bold\">Preprocessor: \"gemma_causal_lm_preprocessor\"</span>\n</pre>\n"
          },
          "metadata": {}
        },
        {
          "output_type": "display_data",
          "data": {
            "text/plain": "┏━━━━━━━━━━━━━━━━━━━━━━━━━━━━━━━━━━━━━━━━━━━━━━━━━━━━┳━━━━━━━━━━━━━━━━━━━━━━━━━━━━━━━━━━━━━━━━━━━━━━━━━━━━━┓\n┃\u001b[1m \u001b[0m\u001b[1mTokenizer (type)                                  \u001b[0m\u001b[1m \u001b[0m┃\u001b[1m \u001b[0m\u001b[1m                                            Vocab #\u001b[0m\u001b[1m \u001b[0m┃\n┡━━━━━━━━━━━━━━━━━━━━━━━━━━━━━━━━━━━━━━━━━━━━━━━━━━━━╇━━━━━━━━━━━━━━━━━━━━━━━━━━━━━━━━━━━━━━━━━━━━━━━━━━━━━┩\n│ gemma_tokenizer (\u001b[38;5;33mGemmaTokenizer\u001b[0m)                   │                                             \u001b[38;5;34m256,000\u001b[0m │\n└────────────────────────────────────────────────────┴─────────────────────────────────────────────────────┘\n",
            "text/html": "<pre style=\"white-space:pre;overflow-x:auto;line-height:normal;font-family:Menlo,'DejaVu Sans Mono',consolas,'Courier New',monospace\">┏━━━━━━━━━━━━━━━━━━━━━━━━━━━━━━━━━━━━━━━━━━━━━━━━━━━━┳━━━━━━━━━━━━━━━━━━━━━━━━━━━━━━━━━━━━━━━━━━━━━━━━━━━━━┓\n┃<span style=\"font-weight: bold\"> Tokenizer (type)                                   </span>┃<span style=\"font-weight: bold\">                                             Vocab # </span>┃\n┡━━━━━━━━━━━━━━━━━━━━━━━━━━━━━━━━━━━━━━━━━━━━━━━━━━━━╇━━━━━━━━━━━━━━━━━━━━━━━━━━━━━━━━━━━━━━━━━━━━━━━━━━━━━┩\n│ gemma_tokenizer (<span style=\"color: #0087ff; text-decoration-color: #0087ff\">GemmaTokenizer</span>)                   │                                             <span style=\"color: #00af00; text-decoration-color: #00af00\">256,000</span> │\n└────────────────────────────────────────────────────┴─────────────────────────────────────────────────────┘\n</pre>\n"
          },
          "metadata": {}
        },
        {
          "output_type": "display_data",
          "data": {
            "text/plain": "\u001b[1mModel: \"gemma_causal_lm\"\u001b[0m\n",
            "text/html": "<pre style=\"white-space:pre;overflow-x:auto;line-height:normal;font-family:Menlo,'DejaVu Sans Mono',consolas,'Courier New',monospace\"><span style=\"font-weight: bold\">Model: \"gemma_causal_lm\"</span>\n</pre>\n"
          },
          "metadata": {}
        },
        {
          "output_type": "display_data",
          "data": {
            "text/plain": "┏━━━━━━━━━━━━━━━━━━━━━━━━━━━━━━━┳━━━━━━━━━━━━━━━━━━━━━━━━━━━┳━━━━━━━━━━━━━━━━━┳━━━━━━━━━━━━━━━━━━━━━━━━━━━━┓\n┃\u001b[1m \u001b[0m\u001b[1mLayer (type)                 \u001b[0m\u001b[1m \u001b[0m┃\u001b[1m \u001b[0m\u001b[1mOutput Shape             \u001b[0m\u001b[1m \u001b[0m┃\u001b[1m \u001b[0m\u001b[1m        Param #\u001b[0m\u001b[1m \u001b[0m┃\u001b[1m \u001b[0m\u001b[1mConnected to              \u001b[0m\u001b[1m \u001b[0m┃\n┡━━━━━━━━━━━━━━━━━━━━━━━━━━━━━━━╇━━━━━━━━━━━━━━━━━━━━━━━━━━━╇━━━━━━━━━━━━━━━━━╇━━━━━━━━━━━━━━━━━━━━━━━━━━━━┩\n│ padding_mask (\u001b[38;5;33mInputLayer\u001b[0m)     │ (\u001b[38;5;45mNone\u001b[0m, \u001b[38;5;45mNone\u001b[0m)              │               \u001b[38;5;34m0\u001b[0m │ -                          │\n├───────────────────────────────┼───────────────────────────┼─────────────────┼────────────────────────────┤\n│ token_ids (\u001b[38;5;33mInputLayer\u001b[0m)        │ (\u001b[38;5;45mNone\u001b[0m, \u001b[38;5;45mNone\u001b[0m)              │               \u001b[38;5;34m0\u001b[0m │ -                          │\n├───────────────────────────────┼───────────────────────────┼─────────────────┼────────────────────────────┤\n│ gemma_backbone                │ (\u001b[38;5;45mNone\u001b[0m, \u001b[38;5;45mNone\u001b[0m, \u001b[38;5;34m2048\u001b[0m)        │   \u001b[38;5;34m2,506,172,416\u001b[0m │ padding_mask[\u001b[38;5;34m0\u001b[0m][\u001b[38;5;34m0\u001b[0m],        │\n│ (\u001b[38;5;33mGemmaBackbone\u001b[0m)               │                           │                 │ token_ids[\u001b[38;5;34m0\u001b[0m][\u001b[38;5;34m0\u001b[0m]            │\n├───────────────────────────────┼───────────────────────────┼─────────────────┼────────────────────────────┤\n│ token_embedding               │ (\u001b[38;5;45mNone\u001b[0m, \u001b[38;5;45mNone\u001b[0m, \u001b[38;5;34m256000\u001b[0m)      │     \u001b[38;5;34m524,288,000\u001b[0m │ gemma_backbone[\u001b[38;5;34m0\u001b[0m][\u001b[38;5;34m0\u001b[0m]       │\n│ (\u001b[38;5;33mReversibleEmbedding\u001b[0m)         │                           │                 │                            │\n└───────────────────────────────┴───────────────────────────┴─────────────────┴────────────────────────────┘\n",
            "text/html": "<pre style=\"white-space:pre;overflow-x:auto;line-height:normal;font-family:Menlo,'DejaVu Sans Mono',consolas,'Courier New',monospace\">┏━━━━━━━━━━━━━━━━━━━━━━━━━━━━━━━┳━━━━━━━━━━━━━━━━━━━━━━━━━━━┳━━━━━━━━━━━━━━━━━┳━━━━━━━━━━━━━━━━━━━━━━━━━━━━┓\n┃<span style=\"font-weight: bold\"> Layer (type)                  </span>┃<span style=\"font-weight: bold\"> Output Shape              </span>┃<span style=\"font-weight: bold\">         Param # </span>┃<span style=\"font-weight: bold\"> Connected to               </span>┃\n┡━━━━━━━━━━━━━━━━━━━━━━━━━━━━━━━╇━━━━━━━━━━━━━━━━━━━━━━━━━━━╇━━━━━━━━━━━━━━━━━╇━━━━━━━━━━━━━━━━━━━━━━━━━━━━┩\n│ padding_mask (<span style=\"color: #0087ff; text-decoration-color: #0087ff\">InputLayer</span>)     │ (<span style=\"color: #00d7ff; text-decoration-color: #00d7ff\">None</span>, <span style=\"color: #00d7ff; text-decoration-color: #00d7ff\">None</span>)              │               <span style=\"color: #00af00; text-decoration-color: #00af00\">0</span> │ -                          │\n├───────────────────────────────┼───────────────────────────┼─────────────────┼────────────────────────────┤\n│ token_ids (<span style=\"color: #0087ff; text-decoration-color: #0087ff\">InputLayer</span>)        │ (<span style=\"color: #00d7ff; text-decoration-color: #00d7ff\">None</span>, <span style=\"color: #00d7ff; text-decoration-color: #00d7ff\">None</span>)              │               <span style=\"color: #00af00; text-decoration-color: #00af00\">0</span> │ -                          │\n├───────────────────────────────┼───────────────────────────┼─────────────────┼────────────────────────────┤\n│ gemma_backbone                │ (<span style=\"color: #00d7ff; text-decoration-color: #00d7ff\">None</span>, <span style=\"color: #00d7ff; text-decoration-color: #00d7ff\">None</span>, <span style=\"color: #00af00; text-decoration-color: #00af00\">2048</span>)        │   <span style=\"color: #00af00; text-decoration-color: #00af00\">2,506,172,416</span> │ padding_mask[<span style=\"color: #00af00; text-decoration-color: #00af00\">0</span>][<span style=\"color: #00af00; text-decoration-color: #00af00\">0</span>],        │\n│ (<span style=\"color: #0087ff; text-decoration-color: #0087ff\">GemmaBackbone</span>)               │                           │                 │ token_ids[<span style=\"color: #00af00; text-decoration-color: #00af00\">0</span>][<span style=\"color: #00af00; text-decoration-color: #00af00\">0</span>]            │\n├───────────────────────────────┼───────────────────────────┼─────────────────┼────────────────────────────┤\n│ token_embedding               │ (<span style=\"color: #00d7ff; text-decoration-color: #00d7ff\">None</span>, <span style=\"color: #00d7ff; text-decoration-color: #00d7ff\">None</span>, <span style=\"color: #00af00; text-decoration-color: #00af00\">256000</span>)      │     <span style=\"color: #00af00; text-decoration-color: #00af00\">524,288,000</span> │ gemma_backbone[<span style=\"color: #00af00; text-decoration-color: #00af00\">0</span>][<span style=\"color: #00af00; text-decoration-color: #00af00\">0</span>]       │\n│ (<span style=\"color: #0087ff; text-decoration-color: #0087ff\">ReversibleEmbedding</span>)         │                           │                 │                            │\n└───────────────────────────────┴───────────────────────────┴─────────────────┴────────────────────────────┘\n</pre>\n"
          },
          "metadata": {}
        },
        {
          "output_type": "display_data",
          "data": {
            "text/plain": "\u001b[1m Total params: \u001b[0m\u001b[38;5;34m2,506,172,416\u001b[0m (9.34 GB)\n",
            "text/html": "<pre style=\"white-space:pre;overflow-x:auto;line-height:normal;font-family:Menlo,'DejaVu Sans Mono',consolas,'Courier New',monospace\"><span style=\"font-weight: bold\"> Total params: </span><span style=\"color: #00af00; text-decoration-color: #00af00\">2,506,172,416</span> (9.34 GB)\n</pre>\n"
          },
          "metadata": {}
        },
        {
          "output_type": "display_data",
          "data": {
            "text/plain": "\u001b[1m Trainable params: \u001b[0m\u001b[38;5;34m2,506,172,416\u001b[0m (9.34 GB)\n",
            "text/html": "<pre style=\"white-space:pre;overflow-x:auto;line-height:normal;font-family:Menlo,'DejaVu Sans Mono',consolas,'Courier New',monospace\"><span style=\"font-weight: bold\"> Trainable params: </span><span style=\"color: #00af00; text-decoration-color: #00af00\">2,506,172,416</span> (9.34 GB)\n</pre>\n"
          },
          "metadata": {}
        },
        {
          "output_type": "display_data",
          "data": {
            "text/plain": "\u001b[1m Non-trainable params: \u001b[0m\u001b[38;5;34m0\u001b[0m (0.00 B)\n",
            "text/html": "<pre style=\"white-space:pre;overflow-x:auto;line-height:normal;font-family:Menlo,'DejaVu Sans Mono',consolas,'Courier New',monospace\"><span style=\"font-weight: bold\"> Non-trainable params: </span><span style=\"color: #00af00; text-decoration-color: #00af00\">0</span> (0.00 B)\n</pre>\n"
          },
          "metadata": {}
        }
      ]
    },
    {
      "cell_type": "markdown",
      "source": [
        "## Gemma LM Preprocessor\n",
        "\n",
        "An important part of the Gemma model is the **Preprocessor** layer, which under the hood uses **Tokenizer**.\n",
        "\n",
        "**What it does:** The preprocessor takes input strings and transforms them into a dictionary (`token_ids`, `padding_mask`) containing preprocessed tensors. This process starts with tokenization, where input strings are converted into sequences of token IDs.\n",
        "\n",
        "**Why it's important:** Initially, raw text data is complex and challenging for modeling due to its high dimensionality. By converting text into a compact set of tokens, such as transforming `\"The quick brown fox\"` into `[\"the\", \"qu\", \"##ick\", \"br\", \"##own\", \"fox\"]`, we simplify the data. Many models rely on special tokens and additional tensors to understand input. These tokens help divide input and identify padding, among other tasks. Making all sequences the same length through padding boosts computational efficiency, making subsequent steps smoother.\n",
        "\n",
        "Explore the following pages to access the available preprocessing and tokenizer layers in **KerasNLP**:\n",
        "- [Preprocessing](https://keras.io/api/keras_nlp/preprocessing_layers/)\n",
        "- [Tokenizers](https://keras.io/api/keras_nlp/tokenizers/)"
      ],
      "metadata": {
        "id": "GWcpii0SMj75"
      }
    },
    {
      "cell_type": "code",
      "source": [
        "x, y, sample_weight = gemma_lm.preprocessor(data[0:2])"
      ],
      "metadata": {
        "execution": {
          "iopub.status.busy": "2024-03-25T00:01:42.205095Z",
          "iopub.execute_input": "2024-03-25T00:01:42.206874Z",
          "iopub.status.idle": "2024-03-25T00:01:42.534238Z",
          "shell.execute_reply.started": "2024-03-25T00:01:42.206847Z",
          "shell.execute_reply": "2024-03-25T00:01:42.533456Z"
        },
        "trusted": true,
        "id": "AB2_O7kTMj75"
      },
      "execution_count": null,
      "outputs": []
    },
    {
      "cell_type": "markdown",
      "source": [
        "This preprocessing layer will take in batches of strings, and return outputs in a `(x, y, sample_weight)` format, where the `y` label is the next token id in the `x` sequence.\n",
        "\n",
        "From the code below, we can see that, after the preprocessor, the data shape is `(num_samples, sequence_length)`."
      ],
      "metadata": {
        "id": "KGd21VcJMj75"
      }
    },
    {
      "cell_type": "code",
      "source": [
        "# Display the shape of each processed output\n",
        "for k, v in x.items():\n",
        "    print(k, \":\", v.shape)"
      ],
      "metadata": {
        "execution": {
          "iopub.status.busy": "2024-03-25T00:01:42.535542Z",
          "iopub.execute_input": "2024-03-25T00:01:42.535835Z",
          "iopub.status.idle": "2024-03-25T00:01:42.540944Z",
          "shell.execute_reply.started": "2024-03-25T00:01:42.535810Z",
          "shell.execute_reply": "2024-03-25T00:01:42.540067Z"
        },
        "trusted": true,
        "id": "gyVdiwhVMj76",
        "outputId": "dcc7af19-9914-4756-efc2-dcac838215b9"
      },
      "execution_count": null,
      "outputs": [
        {
          "name": "stdout",
          "text": "token_ids : (2, 8192)\npadding_mask : (2, 8192)\n",
          "output_type": "stream"
        }
      ]
    },
    {
      "cell_type": "markdown",
      "source": [
        "# Inference before fine tuning\n",
        "\n",
        "Let's ask the Gemma model some sample questions using our prepared prompt and see how it responds.\n",
        "\n",
        "> Our initial tests with the Gemma model on Python queries revealed a need for fine-tuning, as responses lacked precision and contextual relevance. Enhancing the model with a targeted dataset will improve its accuracy and utility in addressing programming-specific questions."
      ],
      "metadata": {
        "id": "rLvRWu62Mj76"
      }
    },
    {
      "cell_type": "markdown",
      "source": [
        "## Sample 1"
      ],
      "metadata": {
        "id": "9xM5W7i6Mj76"
      }
    },
    {
      "cell_type": "code",
      "source": [
        "# Take one sample\n",
        "row = df.iloc[2]\n",
        "\n",
        "# Generate Prompt using template\n",
        "prompt = template.format(\n",
        "\n",
        "    question=row.question,\n",
        "    answer=\"\"\n",
        ")\n",
        "\n",
        "# Infer\n",
        "output = gemma_lm.generate(prompt, max_length=256)\n",
        "\n",
        "# Colorize\n",
        "output = colorize_text(output)\n",
        "\n",
        "# Display in markdown\n",
        "display(Markdown(output))"
      ],
      "metadata": {
        "_kg_hide-input": true,
        "execution": {
          "iopub.status.busy": "2024-03-25T00:01:42.542229Z",
          "iopub.execute_input": "2024-03-25T00:01:42.542581Z",
          "iopub.status.idle": "2024-03-25T00:01:59.139294Z",
          "shell.execute_reply.started": "2024-03-25T00:01:42.542550Z",
          "shell.execute_reply": "2024-03-25T00:01:59.138268Z"
        },
        "trusted": true,
        "id": "roWDvS2HMj76",
        "outputId": "8ca26645-8682-4dfb-e26f-bc58394fef21"
      },
      "execution_count": null,
      "outputs": [
        {
          "output_type": "display_data",
          "data": {
            "text/plain": "<IPython.core.display.Markdown object>",
            "text/markdown": "\n\nQuestion:\nHow to check if a key exists in a dictionary?\n\nAnswer:\nThe in operator can be used to check if a key exists in a dictionary.\n\nExample:\n\n>>> d = {'a': 1, 'b': 2, 'c': 3}\n>>> d.get('a')\n1\n>>> d.get('d')\n>>> d.get('e')\n>>> d.get('f')\n>>> d.get('g')\n>>> d.get('h')\n>>> d.get('i')\n>>> d.get('j')\n>>> d.get('k')\n>>> d.get('l')\n>>> d.get('m')\n>>> d.get('n')\n>>> d.get('o')\n>>> d.get('p')\n>>> d.get('q')\n>>> d.get('r')\n>>> d.get('s')\n>>> d.get('t')\n>>> d.get('u')\n>>> d.get('v')\n>>> d.get('w')\n>>> d.get('x')\n>>> d.get('y')\n>>> d.get('z')\n"
          },
          "metadata": {}
        }
      ]
    },
    {
      "cell_type": "markdown",
      "source": [
        "## Sample 2"
      ],
      "metadata": {
        "id": "nLPP4R8iMj76"
      }
    },
    {
      "cell_type": "code",
      "source": [
        "# Take one sample\n",
        "row = df.iloc[250]\n",
        "\n",
        "# Generate Prompt using template\n",
        "prompt = template.format(\n",
        "\n",
        "    question=row.question,\n",
        "    answer=\"\"\n",
        ")\n",
        "\n",
        "# Infer\n",
        "output = gemma_lm.generate(prompt, max_length=256)\n",
        "\n",
        "# Colorize\n",
        "output = colorize_text(output)\n",
        "\n",
        "# Display in markdown\n",
        "display(Markdown(output))"
      ],
      "metadata": {
        "_kg_hide-input": true,
        "execution": {
          "iopub.status.busy": "2024-03-25T00:01:59.140694Z",
          "iopub.execute_input": "2024-03-25T00:01:59.141350Z",
          "iopub.status.idle": "2024-03-25T00:02:02.139545Z",
          "shell.execute_reply.started": "2024-03-25T00:01:59.141313Z",
          "shell.execute_reply": "2024-03-25T00:02:02.138546Z"
        },
        "trusted": true,
        "id": "rUSDKJrqMj76",
        "outputId": "b2ffb8b3-d5d5-4ace-bac9-8d479e6e86d4"
      },
      "execution_count": null,
      "outputs": [
        {
          "output_type": "display_data",
          "data": {
            "text/plain": "<IPython.core.display.Markdown object>",
            "text/markdown": "\n\nQuestion:\nPython `if x is not None` or `if not x is None`? I've always thought of the if not x is None version to be more clear, but Google's style guide implies (based on this excerpt) that they use if x is not None. Is there any minor performance difference (I'm assuming not), and is there any case where one really doesn't fit (making the other a clear winner for my convention)?*\n\n*I'm referring to any singleton, rather than just None.\n\n\n  ...to compare singletons like\n  None. Use is  or is not.\n\n\n\nAnswer:\nThe difference is that the first one is a comparison of the object itself, while the second one is a comparison of the object's identity.\n\nThe first one is more efficient, because it doesn't have to check the object's identity.\n\nThe second one is more efficient, because it doesn't have to check the object's identity.\n\nThe second one is more efficient, because it doesn't have to check the object's identity.\n\nThe second one is more efficient, because it doesn't have to check the object's identity.\n\nThe"
          },
          "metadata": {}
        }
      ]
    },
    {
      "cell_type": "markdown",
      "source": [
        "# Fine-tuning with LoRA\n",
        "\n",
        "To get better responses from the model, we will fine-tune the model with Low Rank Adaptation (LoRA) on the **Kaggle Docs** dataset.\n",
        "\n",
        "**What exactly is LoRA?**\n",
        "\n",
        "LoRA is a method used to fine-tune large language models (LLMs) in an efficient way. It involves freezing the weights of the LLM and injecting trainable rank-decomposition matrices.\n",
        "\n",
        "Imagine in an LLM, we have a pre-trained dense layer, represented by a $d \\times d$ weight matrix, denoted as $W_0$. We then initialize two additional dense layers, labeled as $A$ and $B$, with shapes $d \\times r$ and $r \\times d$, respectively. Here, $r$ denotes the rank, which is typically **much smaller than** $d$. Prior to LoRA, the model's output was computed using the equation $output = W_0 \\cdot x + b_0$, where $x$ represents the input and $b_0$ denotes the bias term associated with the original dense layer, which remains frozen. After applying LoRA, the equation becomes $output = (W_0 \\cdot x + b_0) + (B \\cdot A \\cdot x)$, where $A$ and $B$ denote the trainable rank-decomposition matrices that have been introduced.\n",
        "\n",
        "<center><img src=\"https://i.ibb.co/DWsbhLg/LoRA.png\" width=\"300\"><br/>\n",
        "Credit: <a href=\"https://arxiv.org/abs/2106.09685\">LoRA: Low-Rank Adaptation of Large Language Models</a> Paper</center>\n",
        "\n",
        "\n",
        "In the paper, $A$ is initialized with $\\mathcal{N} (0, \\sigma^2)$ and $B$ with $0$, where $\\mathcal{N}$ denotes the normal distribution, and $\\sigma^2$ is the variance.\n",
        "\n",
        "**Why does LoRA save memory?**\n",
        "\n",
        "Even though we're adding more layers to the model with LoRA, it actually helps save memory. This is because the smaller layers (A and B) have fewer parameters to learn compared to the big model and fewer trainable parameters mean fewer optimizer variables to store. So, even though the overall model might seem bigger, it's actually more efficient in terms of memory usage.\n",
        "\n",
        "> This notebook uses a LoRA rank of `4`. A higher rank means more detailed changes are possible, but also means more trainable parameters."
      ],
      "metadata": {
        "id": "_3VujTuUMj76"
      }
    },
    {
      "cell_type": "code",
      "source": [
        "# Enable LoRA for the model and set the LoRA rank to 4.\n",
        "gemma_lm.backbone.enable_lora(rank=4)\n",
        "gemma_lm.summary()"
      ],
      "metadata": {
        "execution": {
          "iopub.status.busy": "2024-03-25T00:02:02.140668Z",
          "iopub.execute_input": "2024-03-25T00:02:02.140958Z",
          "iopub.status.idle": "2024-03-25T00:02:02.594418Z",
          "shell.execute_reply.started": "2024-03-25T00:02:02.140932Z",
          "shell.execute_reply": "2024-03-25T00:02:02.593544Z"
        },
        "trusted": true,
        "id": "K5dwFaCFMj79",
        "outputId": "3c22dcaa-f833-4c6a-afdd-10f5ae473cdd"
      },
      "execution_count": null,
      "outputs": [
        {
          "output_type": "display_data",
          "data": {
            "text/plain": "\u001b[1mPreprocessor: \"gemma_causal_lm_preprocessor\"\u001b[0m\n",
            "text/html": "<pre style=\"white-space:pre;overflow-x:auto;line-height:normal;font-family:Menlo,'DejaVu Sans Mono',consolas,'Courier New',monospace\"><span style=\"font-weight: bold\">Preprocessor: \"gemma_causal_lm_preprocessor\"</span>\n</pre>\n"
          },
          "metadata": {}
        },
        {
          "output_type": "display_data",
          "data": {
            "text/plain": "┏━━━━━━━━━━━━━━━━━━━━━━━━━━━━━━━━━━━━━━━━━━━━━━━━━━━━┳━━━━━━━━━━━━━━━━━━━━━━━━━━━━━━━━━━━━━━━━━━━━━━━━━━━━━┓\n┃\u001b[1m \u001b[0m\u001b[1mTokenizer (type)                                  \u001b[0m\u001b[1m \u001b[0m┃\u001b[1m \u001b[0m\u001b[1m                                            Vocab #\u001b[0m\u001b[1m \u001b[0m┃\n┡━━━━━━━━━━━━━━━━━━━━━━━━━━━━━━━━━━━━━━━━━━━━━━━━━━━━╇━━━━━━━━━━━━━━━━━━━━━━━━━━━━━━━━━━━━━━━━━━━━━━━━━━━━━┩\n│ gemma_tokenizer (\u001b[38;5;33mGemmaTokenizer\u001b[0m)                   │                                             \u001b[38;5;34m256,000\u001b[0m │\n└────────────────────────────────────────────────────┴─────────────────────────────────────────────────────┘\n",
            "text/html": "<pre style=\"white-space:pre;overflow-x:auto;line-height:normal;font-family:Menlo,'DejaVu Sans Mono',consolas,'Courier New',monospace\">┏━━━━━━━━━━━━━━━━━━━━━━━━━━━━━━━━━━━━━━━━━━━━━━━━━━━━┳━━━━━━━━━━━━━━━━━━━━━━━━━━━━━━━━━━━━━━━━━━━━━━━━━━━━━┓\n┃<span style=\"font-weight: bold\"> Tokenizer (type)                                   </span>┃<span style=\"font-weight: bold\">                                             Vocab # </span>┃\n┡━━━━━━━━━━━━━━━━━━━━━━━━━━━━━━━━━━━━━━━━━━━━━━━━━━━━╇━━━━━━━━━━━━━━━━━━━━━━━━━━━━━━━━━━━━━━━━━━━━━━━━━━━━━┩\n│ gemma_tokenizer (<span style=\"color: #0087ff; text-decoration-color: #0087ff\">GemmaTokenizer</span>)                   │                                             <span style=\"color: #00af00; text-decoration-color: #00af00\">256,000</span> │\n└────────────────────────────────────────────────────┴─────────────────────────────────────────────────────┘\n</pre>\n"
          },
          "metadata": {}
        },
        {
          "output_type": "display_data",
          "data": {
            "text/plain": "\u001b[1mModel: \"gemma_causal_lm\"\u001b[0m\n",
            "text/html": "<pre style=\"white-space:pre;overflow-x:auto;line-height:normal;font-family:Menlo,'DejaVu Sans Mono',consolas,'Courier New',monospace\"><span style=\"font-weight: bold\">Model: \"gemma_causal_lm\"</span>\n</pre>\n"
          },
          "metadata": {}
        },
        {
          "output_type": "display_data",
          "data": {
            "text/plain": "┏━━━━━━━━━━━━━━━━━━━━━━━━━━━━━━━┳━━━━━━━━━━━━━━━━━━━━━━━━━━━┳━━━━━━━━━━━━━━━━━┳━━━━━━━━━━━━━━━━━━━━━━━━━━━━┓\n┃\u001b[1m \u001b[0m\u001b[1mLayer (type)                 \u001b[0m\u001b[1m \u001b[0m┃\u001b[1m \u001b[0m\u001b[1mOutput Shape             \u001b[0m\u001b[1m \u001b[0m┃\u001b[1m \u001b[0m\u001b[1m        Param #\u001b[0m\u001b[1m \u001b[0m┃\u001b[1m \u001b[0m\u001b[1mConnected to              \u001b[0m\u001b[1m \u001b[0m┃\n┡━━━━━━━━━━━━━━━━━━━━━━━━━━━━━━━╇━━━━━━━━━━━━━━━━━━━━━━━━━━━╇━━━━━━━━━━━━━━━━━╇━━━━━━━━━━━━━━━━━━━━━━━━━━━━┩\n│ padding_mask (\u001b[38;5;33mInputLayer\u001b[0m)     │ (\u001b[38;5;45mNone\u001b[0m, \u001b[38;5;45mNone\u001b[0m)              │               \u001b[38;5;34m0\u001b[0m │ -                          │\n├───────────────────────────────┼───────────────────────────┼─────────────────┼────────────────────────────┤\n│ token_ids (\u001b[38;5;33mInputLayer\u001b[0m)        │ (\u001b[38;5;45mNone\u001b[0m, \u001b[38;5;45mNone\u001b[0m)              │               \u001b[38;5;34m0\u001b[0m │ -                          │\n├───────────────────────────────┼───────────────────────────┼─────────────────┼────────────────────────────┤\n│ gemma_backbone                │ (\u001b[38;5;45mNone\u001b[0m, \u001b[38;5;45mNone\u001b[0m, \u001b[38;5;34m2048\u001b[0m)        │   \u001b[38;5;34m2,507,536,384\u001b[0m │ padding_mask[\u001b[38;5;34m0\u001b[0m][\u001b[38;5;34m0\u001b[0m],        │\n│ (\u001b[38;5;33mGemmaBackbone\u001b[0m)               │                           │                 │ token_ids[\u001b[38;5;34m0\u001b[0m][\u001b[38;5;34m0\u001b[0m]            │\n├───────────────────────────────┼───────────────────────────┼─────────────────┼────────────────────────────┤\n│ token_embedding               │ (\u001b[38;5;45mNone\u001b[0m, \u001b[38;5;45mNone\u001b[0m, \u001b[38;5;34m256000\u001b[0m)      │     \u001b[38;5;34m524,288,000\u001b[0m │ gemma_backbone[\u001b[38;5;34m0\u001b[0m][\u001b[38;5;34m0\u001b[0m]       │\n│ (\u001b[38;5;33mReversibleEmbedding\u001b[0m)         │                           │                 │                            │\n└───────────────────────────────┴───────────────────────────┴─────────────────┴────────────────────────────┘\n",
            "text/html": "<pre style=\"white-space:pre;overflow-x:auto;line-height:normal;font-family:Menlo,'DejaVu Sans Mono',consolas,'Courier New',monospace\">┏━━━━━━━━━━━━━━━━━━━━━━━━━━━━━━━┳━━━━━━━━━━━━━━━━━━━━━━━━━━━┳━━━━━━━━━━━━━━━━━┳━━━━━━━━━━━━━━━━━━━━━━━━━━━━┓\n┃<span style=\"font-weight: bold\"> Layer (type)                  </span>┃<span style=\"font-weight: bold\"> Output Shape              </span>┃<span style=\"font-weight: bold\">         Param # </span>┃<span style=\"font-weight: bold\"> Connected to               </span>┃\n┡━━━━━━━━━━━━━━━━━━━━━━━━━━━━━━━╇━━━━━━━━━━━━━━━━━━━━━━━━━━━╇━━━━━━━━━━━━━━━━━╇━━━━━━━━━━━━━━━━━━━━━━━━━━━━┩\n│ padding_mask (<span style=\"color: #0087ff; text-decoration-color: #0087ff\">InputLayer</span>)     │ (<span style=\"color: #00d7ff; text-decoration-color: #00d7ff\">None</span>, <span style=\"color: #00d7ff; text-decoration-color: #00d7ff\">None</span>)              │               <span style=\"color: #00af00; text-decoration-color: #00af00\">0</span> │ -                          │\n├───────────────────────────────┼───────────────────────────┼─────────────────┼────────────────────────────┤\n│ token_ids (<span style=\"color: #0087ff; text-decoration-color: #0087ff\">InputLayer</span>)        │ (<span style=\"color: #00d7ff; text-decoration-color: #00d7ff\">None</span>, <span style=\"color: #00d7ff; text-decoration-color: #00d7ff\">None</span>)              │               <span style=\"color: #00af00; text-decoration-color: #00af00\">0</span> │ -                          │\n├───────────────────────────────┼───────────────────────────┼─────────────────┼────────────────────────────┤\n│ gemma_backbone                │ (<span style=\"color: #00d7ff; text-decoration-color: #00d7ff\">None</span>, <span style=\"color: #00d7ff; text-decoration-color: #00d7ff\">None</span>, <span style=\"color: #00af00; text-decoration-color: #00af00\">2048</span>)        │   <span style=\"color: #00af00; text-decoration-color: #00af00\">2,507,536,384</span> │ padding_mask[<span style=\"color: #00af00; text-decoration-color: #00af00\">0</span>][<span style=\"color: #00af00; text-decoration-color: #00af00\">0</span>],        │\n│ (<span style=\"color: #0087ff; text-decoration-color: #0087ff\">GemmaBackbone</span>)               │                           │                 │ token_ids[<span style=\"color: #00af00; text-decoration-color: #00af00\">0</span>][<span style=\"color: #00af00; text-decoration-color: #00af00\">0</span>]            │\n├───────────────────────────────┼───────────────────────────┼─────────────────┼────────────────────────────┤\n│ token_embedding               │ (<span style=\"color: #00d7ff; text-decoration-color: #00d7ff\">None</span>, <span style=\"color: #00d7ff; text-decoration-color: #00d7ff\">None</span>, <span style=\"color: #00af00; text-decoration-color: #00af00\">256000</span>)      │     <span style=\"color: #00af00; text-decoration-color: #00af00\">524,288,000</span> │ gemma_backbone[<span style=\"color: #00af00; text-decoration-color: #00af00\">0</span>][<span style=\"color: #00af00; text-decoration-color: #00af00\">0</span>]       │\n│ (<span style=\"color: #0087ff; text-decoration-color: #0087ff\">ReversibleEmbedding</span>)         │                           │                 │                            │\n└───────────────────────────────┴───────────────────────────┴─────────────────┴────────────────────────────┘\n</pre>\n"
          },
          "metadata": {}
        },
        {
          "output_type": "display_data",
          "data": {
            "text/plain": "\u001b[1m Total params: \u001b[0m\u001b[38;5;34m2,507,536,384\u001b[0m (9.34 GB)\n",
            "text/html": "<pre style=\"white-space:pre;overflow-x:auto;line-height:normal;font-family:Menlo,'DejaVu Sans Mono',consolas,'Courier New',monospace\"><span style=\"font-weight: bold\"> Total params: </span><span style=\"color: #00af00; text-decoration-color: #00af00\">2,507,536,384</span> (9.34 GB)\n</pre>\n"
          },
          "metadata": {}
        },
        {
          "output_type": "display_data",
          "data": {
            "text/plain": "\u001b[1m Trainable params: \u001b[0m\u001b[38;5;34m1,363,968\u001b[0m (5.20 MB)\n",
            "text/html": "<pre style=\"white-space:pre;overflow-x:auto;line-height:normal;font-family:Menlo,'DejaVu Sans Mono',consolas,'Courier New',monospace\"><span style=\"font-weight: bold\"> Trainable params: </span><span style=\"color: #00af00; text-decoration-color: #00af00\">1,363,968</span> (5.20 MB)\n</pre>\n"
          },
          "metadata": {}
        },
        {
          "output_type": "display_data",
          "data": {
            "text/plain": "\u001b[1m Non-trainable params: \u001b[0m\u001b[38;5;34m2,506,172,416\u001b[0m (9.34 GB)\n",
            "text/html": "<pre style=\"white-space:pre;overflow-x:auto;line-height:normal;font-family:Menlo,'DejaVu Sans Mono',consolas,'Courier New',monospace\"><span style=\"font-weight: bold\"> Non-trainable params: </span><span style=\"color: #00af00; text-decoration-color: #00af00\">2,506,172,416</span> (9.34 GB)\n</pre>\n"
          },
          "metadata": {}
        }
      ]
    },
    {
      "cell_type": "markdown",
      "source": [
        "**Notice** that, the number of trainable parameters is reduced from ~$2.5$ billions to ~$1.3$ millions after enabling LoRA."
      ],
      "metadata": {
        "id": "x0OouIP5Mj79"
      }
    },
    {
      "cell_type": "code",
      "source": [
        "# Use AdamW (a common optimizer for transformer models).\n",
        "optimizer = keras.optimizers.AdamW(\n",
        "    learning_rate=5e-6,\n",
        "    weight_decay=0.01,\n",
        ")\n",
        "optimizer.exclude_from_weight_decay(var_names=[\"bias\", \"scale\"])"
      ],
      "metadata": {
        "execution": {
          "iopub.status.busy": "2024-03-25T00:02:02.595612Z",
          "iopub.execute_input": "2024-03-25T00:02:02.595898Z",
          "iopub.status.idle": "2024-03-25T00:02:02.601596Z",
          "shell.execute_reply.started": "2024-03-25T00:02:02.595873Z",
          "shell.execute_reply": "2024-03-25T00:02:02.600563Z"
        },
        "trusted": true,
        "id": "bF1hMY6jMj79"
      },
      "execution_count": null,
      "outputs": []
    },
    {
      "cell_type": "markdown",
      "source": [
        "## Training"
      ],
      "metadata": {
        "id": "ulZaJZTLMj79"
      }
    },
    {
      "cell_type": "code",
      "source": [
        "# Limit the input sequence length to 512 (to control memory usage).\n",
        "gemma_lm.preprocessor.sequence_length = CFG.sequence_length\n",
        "\n",
        "# Compile the model with loss, optimizer, and metric\n",
        "gemma_lm.compile(\n",
        "    loss=keras.losses.SparseCategoricalCrossentropy(from_logits=True),\n",
        "    optimizer=optimizer,\n",
        "    weighted_metrics=[keras.metrics.SparseCategoricalAccuracy()],\n",
        ")\n",
        "\n",
        "# Train model\n",
        "gemma_lm.fit(data, epochs=5, batch_size=CFG.batch_size)\n",
        "# gemma_lm.fit(data, epochs=CFG.epochs, batch_size=CFG.batch_size)"
      ],
      "metadata": {
        "execution": {
          "iopub.status.busy": "2024-03-25T00:02:02.602634Z",
          "iopub.execute_input": "2024-03-25T00:02:02.602901Z",
          "iopub.status.idle": "2024-03-25T00:32:44.964476Z",
          "shell.execute_reply.started": "2024-03-25T00:02:02.602878Z",
          "shell.execute_reply": "2024-03-25T00:32:44.963566Z"
        },
        "trusted": true,
        "id": "orcfGFNtMj79",
        "outputId": "d5ef4025-3bd1-4b99-fcb2-3b215ff2413a"
      },
      "execution_count": null,
      "outputs": [
        {
          "name": "stdout",
          "text": "Epoch 1/5\n\u001b[1m500/500\u001b[0m \u001b[32m━━━━━━━━━━━━━━━━━━━━\u001b[0m\u001b[37m\u001b[0m \u001b[1m385s\u001b[0m 728ms/step - loss: 0.5898 - sparse_categorical_accuracy: 0.5749\nEpoch 2/5\n\u001b[1m500/500\u001b[0m \u001b[32m━━━━━━━━━━━━━━━━━━━━\u001b[0m\u001b[37m\u001b[0m \u001b[1m364s\u001b[0m 727ms/step - loss: 0.5819 - sparse_categorical_accuracy: 0.5776\nEpoch 3/5\n\u001b[1m500/500\u001b[0m \u001b[32m━━━━━━━━━━━━━━━━━━━━\u001b[0m\u001b[37m\u001b[0m \u001b[1m364s\u001b[0m 727ms/step - loss: 0.5729 - sparse_categorical_accuracy: 0.5808\nEpoch 4/5\n\u001b[1m500/500\u001b[0m \u001b[32m━━━━━━━━━━━━━━━━━━━━\u001b[0m\u001b[37m\u001b[0m \u001b[1m364s\u001b[0m 727ms/step - loss: 0.5624 - sparse_categorical_accuracy: 0.6015\nEpoch 5/5\n\u001b[1m500/500\u001b[0m \u001b[32m━━━━━━━━━━━━━━━━━━━━\u001b[0m\u001b[37m\u001b[0m \u001b[1m364s\u001b[0m 727ms/step - loss: 0.5537 - sparse_categorical_accuracy: 0.6125\n",
          "output_type": "stream"
        },
        {
          "execution_count": 22,
          "output_type": "execute_result",
          "data": {
            "text/plain": "<keras.src.callbacks.history.History at 0x7c463c484670>"
          },
          "metadata": {}
        }
      ]
    },
    {
      "cell_type": "markdown",
      "source": [
        "# Inference after fine-tuning\n",
        "\n",
        "Let's see how our fine-tuned model responds to the same questions we asked before fine-tuning the model."
      ],
      "metadata": {
        "id": "6EYu6Si4Mj79"
      }
    },
    {
      "cell_type": "markdown",
      "source": [
        "## Sample 1"
      ],
      "metadata": {
        "id": "Nx3xIZKuMj79"
      }
    },
    {
      "cell_type": "code",
      "source": [
        "# Take one sample\n",
        "row = df.iloc[2]\n",
        "\n",
        "# Generate Prompt using template\n",
        "prompt = template.format(\n",
        "\n",
        "    question=row.question,\n",
        "    answer=\"\"\n",
        ")\n",
        "\n",
        "# Infer\n",
        "output = gemma_lm.generate(prompt, max_length=256)\n",
        "\n",
        "# Colorize\n",
        "output = colorize_text(output)\n",
        "\n",
        "# Display in markdown\n",
        "display(Markdown(output))"
      ],
      "metadata": {
        "_kg_hide-input": true,
        "execution": {
          "iopub.status.busy": "2024-03-25T00:32:44.965756Z",
          "iopub.execute_input": "2024-03-25T00:32:44.966095Z",
          "iopub.status.idle": "2024-03-25T00:33:01.272202Z",
          "shell.execute_reply.started": "2024-03-25T00:32:44.966068Z",
          "shell.execute_reply": "2024-03-25T00:33:01.271229Z"
        },
        "trusted": true,
        "id": "8LRylUdzMj79",
        "outputId": "0b893ab5-f2de-4c66-e4f5-cdc6282278cb"
      },
      "execution_count": null,
      "outputs": [
        {
          "output_type": "display_data",
          "data": {
            "text/plain": "<IPython.core.display.Markdown object>",
            "text/markdown": "\n\nQuestion:\nHow to check if a key exists in a dictionary?\n\nAnswer:\nYou can use either the .has_key() or the .get() methods to check if a key exists in a dictionary:\n\n>>> d = {\"a\": 1, \"b\": 2}\n>>> d.has_key(\"a\") # Returns True\nTrue\n>>> d.has_key(\"c\") # Returns False\nFalse\n>>> d.get(\"a\") # If key doesn't exist, this will return a default value\n>>> d.get(\"c\") # If key doesn't exist, this will raise KeyError exception\n\n\nNote that if a key doesn't exist in a dictionary, the get() method will return the default (if specified) for the key. If the default is not specified, the get() method will raise a KeyError exception.\n\n"
          },
          "metadata": {}
        }
      ]
    },
    {
      "cell_type": "markdown",
      "source": [
        "## Sample 2"
      ],
      "metadata": {
        "id": "Q2cGmC3DMj79"
      }
    },
    {
      "cell_type": "code",
      "source": [
        "# Take one sample\n",
        "row = df.iloc[250]\n",
        "\n",
        "# Generate Prompt using template\n",
        "prompt = template.format(\n",
        "\n",
        "    question=row.question,\n",
        "    answer=\"\"\n",
        ")\n",
        "\n",
        "# Infer\n",
        "output = gemma_lm.generate(prompt, max_length=256)\n",
        "\n",
        "# Colorize\n",
        "output = colorize_text(output)\n",
        "\n",
        "# Display in markdown\n",
        "display(Markdown(output))"
      ],
      "metadata": {
        "_kg_hide-input": true,
        "execution": {
          "iopub.status.busy": "2024-03-25T00:33:01.273551Z",
          "iopub.execute_input": "2024-03-25T00:33:01.273881Z",
          "iopub.status.idle": "2024-03-25T00:33:04.705543Z",
          "shell.execute_reply.started": "2024-03-25T00:33:01.273854Z",
          "shell.execute_reply": "2024-03-25T00:33:04.704451Z"
        },
        "trusted": true,
        "id": "grl4mVI6Mj79",
        "outputId": "4f4754c0-8d02-4ee7-f0a7-a41648d34b1c"
      },
      "execution_count": null,
      "outputs": [
        {
          "output_type": "display_data",
          "data": {
            "text/plain": "<IPython.core.display.Markdown object>",
            "text/markdown": "\n\nQuestion:\nPython `if x is not None` or `if not x is None`? I've always thought of the if not x is None version to be more clear, but Google's style guide implies (based on this excerpt) that they use if x is not None. Is there any minor performance difference (I'm assuming not), and is there any case where one really doesn't fit (making the other a clear winner for my convention)?*\n\n*I'm referring to any singleton, rather than just None.\n\n\n  ...to compare singletons like\n  None. Use is  or is not.\n\n\n\nAnswer:\nThe difference is only in speed, and only in Python.\n\nIf you're using an object, and you want to test if the reference to that object is None, then the first form of your if is faster than the second.\n\n>>> import time\n>>> x = object()\n>>> t= time.time()\n>>> x is None\n>>> time.time() - t\n0.000020\n>>> t = time.time()\n>>> x is not None\n>>> time.time() - t\n0.000023"
          },
          "metadata": {}
        }
      ]
    },
    {
      "cell_type": "markdown",
      "source": [
        "## Unseen Sample\n",
        "\n",
        "Also just for fun, let's try out a question that model hasn't seen during training."
      ],
      "metadata": {
        "id": "AcXMLu1KMj7-"
      }
    },
    {
      "cell_type": "code",
      "source": [
        "# Generate Prompt using template\n",
        "prompt = template.format(\n",
        "\n",
        "    question=\"How to export a notebook?\",\n",
        "    answer=\"\"\n",
        ")\n",
        "\n",
        "# Infer\n",
        "output = gemma_lm.generate(prompt, max_length=256)\n",
        "\n",
        "# Colorize\n",
        "output = colorize_text(output)\n",
        "\n",
        "# Display in markdown\n",
        "display(Markdown(output))"
      ],
      "metadata": {
        "_kg_hide-input": true,
        "execution": {
          "iopub.status.busy": "2024-03-25T00:33:04.706903Z",
          "iopub.execute_input": "2024-03-25T00:33:04.707323Z",
          "iopub.status.idle": "2024-03-25T00:33:09.066162Z",
          "shell.execute_reply.started": "2024-03-25T00:33:04.707286Z",
          "shell.execute_reply": "2024-03-25T00:33:09.065232Z"
        },
        "trusted": true,
        "id": "8ZK1II37Mj7-",
        "outputId": "4520f629-3c01-47ee-c74c-d3b4f48d9352"
      },
      "execution_count": null,
      "outputs": [
        {
          "output_type": "display_data",
          "data": {
            "text/plain": "<IPython.core.display.Markdown object>",
            "text/markdown": "\n\nQuestion:\nHow to export a notebook?\n\nAnswer:\nYou can save a notebook by clicking the \"Save\" button at the bottom of the notebook. You can also export notebooks as a .nb file by clicking the \"Save as\" button.\n\nNote that the \"Save as\" option will only work if you have a valid account. If you do not have a valid account, you can export notebooks as an HTML file by using the \"Export to HTML\" option in the \"File\" menu.\n\nIf you are using the JupyterHub notebook server, you can export notebooks as an HTML file using the \"Save as HTML\" button in the \"File\" menu.\n\nFinally, you can also export notebooks as an XML file by using the \"Export as XML\" button in the \"File\" menu."
          },
          "metadata": {}
        }
      ]
    },
    {
      "cell_type": "markdown",
      "source": [
        "# Conclusion\n",
        "\n",
        "The result is not bad, especially compared to the model without fine-tuning. It's important to remember that we only fine-tuned this model using $500$ samples without any augmentation or advanced prompting. Therefore, there is ample room for improvement. Here are some tips to improve performance:\n",
        "\n",
        "- Increase number of samples used for finetuning\n",
        "- Experiment with advanced prompt engineering techniques.\n",
        "- Utilize a learning rate scheduler."
      ],
      "metadata": {
        "id": "J9KFxONMMj7-"
      }
    },
    {
      "cell_type": "markdown",
      "source": [
        "# Reference\n",
        "* [Fine-tune Gemma models in Keras using LoRA](https://www.kaggle.com/code/nilaychauhan/fine-tune-gemma-models-in-keras-using-lora)\n",
        "* [Parameter-efficient fine-tuning of GPT-2 with LoRA](https://keras.io/examples/nlp/parameter_efficient_finetuning_of_gpt2_with_lora/)\n",
        "* [Gemma - KerasNLP](https://keras.io/api/keras_nlp/models/gemma/)\n",
        "* [Python Questions from Stack Overflow](https://www.kaggle.com/datasets/stackoverflow/pythonquestions)"
      ],
      "metadata": {
        "id": "Fh83PWAcMj7-"
      }
    },
    {
      "cell_type": "code",
      "source": [],
      "metadata": {
        "id": "Pb29yjanP2dS"
      },
      "execution_count": null,
      "outputs": []
    }
  ]
}